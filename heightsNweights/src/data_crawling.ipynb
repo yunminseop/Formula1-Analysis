{
 "cells": [
  {
   "cell_type": "code",
   "execution_count": 1,
   "metadata": {},
   "outputs": [],
   "source": [
    "from bs4 import BeautifulSoup\n",
    "from urllib.request import urlopen\n",
    "import mysql.connector\n",
    "\n",
    "\n",
    "matplotlib.use(\"TkAgg\")\n",
    "\n",
    "remote = mysql.connector.connect(\n",
    "    host = \"----\",\n",
    "    port = \"3306\",\n",
    "    user = \"root\",\n",
    "    password = \"----\",\n",
    "    database = \"----\"\n",
    ")\n",
    "\n",
    "cur = remote.cursor()"
   ]
  },
  {
   "cell_type": "code",
   "execution_count": 62,
   "metadata": {},
   "outputs": [],
   "source": [
    "url = \"https://racingnews365.com/height-weight-f1-drivers\"\n",
    "page = urlopen(url)\n",
    "\n",
    "soup = BeautifulSoup(page, \"html.parser\")"
   ]
  },
  {
   "cell_type": "code",
   "execution_count": 3,
   "metadata": {},
   "outputs": [],
   "source": [
    "import re"
   ]
  },
  {
   "cell_type": "code",
   "execution_count": 4,
   "metadata": {},
   "outputs": [
    {
     "name": "stdout",
     "output_type": "stream",
     "text": [
      "Alex Albon\n",
      "1.86m\n",
      "74kg\n"
     ]
    }
   ],
   "source": [
    "name = 'Alex Albon'\n",
    "h = \"1.86m/ (6' 1'')\"\n",
    "w = \"74kg/163lb\"\n",
    "\n",
    "print((' ').join(re.findall('[A-Z][a-z]+', name)))\n",
    "print(re.findall('\\d.\\d+m',h)[0])\n",
    "print(re.findall('\\d+kg',w)[0])"
   ]
  },
  {
   "cell_type": "code",
   "execution_count": 5,
   "metadata": {},
   "outputs": [
    {
     "name": "stdout",
     "output_type": "stream",
     "text": [
      "2025\n"
     ]
    }
   ],
   "source": [
    "d = \"F1 drivers' height and weight 2025 season\"\n",
    "print(re.findall('\\d+',d)[1])"
   ]
  },
  {
   "cell_type": "markdown",
   "metadata": {},
   "source": [
    "Let's get (driver's name, driver's height, driver's weight) info of each season. (2021~2025)"
   ]
  },
  {
   "cell_type": "code",
   "execution_count": 49,
   "metadata": {},
   "outputs": [],
   "source": [
    "content_fields = soup.find_all(class_=\"content-fields\")\n",
    "for each_content in content_fields:\n",
    "    panel_list = each_content.find_all(class_=\"panel\")\n",
    "    for panel in panel_list:\n",
    "        season = panel.find(class_=\"panel__header__title content__heading--section\")\n",
    "        if \"age\" in season.get_text() or '2025' in season.get_text():\n",
    "            continue\n",
    "        else:\n",
    "            this_season = re.findall('\\d+', season.get_text())[0] if len(re.findall('\\d+', season.get_text())[0]) == 4 else re.findall('\\d+', season.get_text())[1]\n",
    "            driver_list = panel.find_all(class_=\"panel__content\")\n",
    "            for driver_info in driver_list:\n",
    "                each_driver = driver_info.find_all(\"td\")                    \n",
    "                for idx, each in enumerate(each_driver):\n",
    "                        if idx %3 == 0:\n",
    "                            each_info = []\n",
    "                            each_info.append(this_season)\n",
    "                            name = (' ').join(re.findall('[A-Z][a-z]+', each.get_text().strip())).strip()\n",
    "                            each_info.append(name)\n",
    "                                \n",
    "                        if idx %3 == 1:   \n",
    "                            height = re.findall('\\d.\\d+m',each.get_text().strip())[0]\n",
    "                            height = int(float(height[:-1])*100)\n",
    "                            each_info.append(height)\n",
    "                            \n",
    "                        if idx %3 == 2:  \n",
    "                            weight = re.findall('\\d+kg',each.get_text().strip())[0]    \n",
    "                            weight = int(weight[:-2])               \n",
    "                            each_info.append(weight)\n",
    "                            sql = \"insert into driver_info (season, name, height, weight) values (%s, %s, %s, %s)\"\n",
    "                            \n",
    "                            cur.execute(sql, (each_info[0], each_info[1], each_info[2], each_info[3]))\n",
    "                            remote.commit()"
   ]
  },
  {
   "cell_type": "code",
   "execution_count": 52,
   "metadata": {},
   "outputs": [],
   "source": [
    "years = ['2024', '2023', '2022', '2021']"
   ]
  },
  {
   "cell_type": "code",
   "execution_count": 61,
   "metadata": {},
   "outputs": [
    {
     "name": "stdout",
     "output_type": "stream",
     "text": [
      "======2024Season=====\n",
      "======2023Season=====\n",
      "======2022Season=====\n",
      "======2021Season=====\n"
     ]
    }
   ],
   "source": [
    "for year in years:\n",
    "    print(f\"======{year}Season=====\")\n",
    "    season = year\n",
    "    url_for_driver_point = \"https://www.formula1.com/en/results/\"+year+\"/drivers\"\n",
    "    page = urlopen(url_for_driver_point)\n",
    "\n",
    "    soup2 = BeautifulSoup(page, 'html.parser')\n",
    "\n",
    "    f1_data_table = soup2.find(class_=\"f1-table f1-table-with-data w-full\")\n",
    "\n",
    "    tr = f1_data_table.find_all(\"tr\")\n",
    "    for idx, each in enumerate(tr):\n",
    "        if idx == 0:\n",
    "            continue\n",
    "        each_name = each.find(class_=\"underline underline-offset-normal decoration-1 decoration-greyLight hover:decoration-brand-primary\")\n",
    "        each_name = each_name[\"href\"].split('/')[2].replace('-', ' ').split(' ')\n",
    "        for idx in range(len(each_name)):\n",
    "            each_name[idx] = each_name[idx][0].upper() + each_name[idx][1:]\n",
    "        \n",
    "        each_name = (' ').join(each_name)\n",
    "\n",
    "        \"\"\" Handling exceptions for each Name\"\"\"\n",
    "\n",
    "        if each_name == \"Guanyu Zhou\":\n",
    "            each_name = \"Zhou Guanyu\"\n",
    "        elif each_name == \"Alexander Albon\":\n",
    "            each_name = \"Alex Albon\"\n",
    "        elif each_name == \"Kimi Raeikkoenen\":\n",
    "            each_name = \"Kimi Raikkonen\"\n",
    "\n",
    "        point = int(re.findall('\\d+', each.get_text())[1])\n",
    "        point_sql = \"update driver_info set points = %s where season = %s and name = %s\"\n",
    "        \n",
    "        cur.execute(point_sql, (point, season, each_name))\n",
    "        remote.commit()"
   ]
  },
  {
   "cell_type": "markdown",
   "metadata": {},
   "source": [
    "Data collection is over."
   ]
  },
  {
   "cell_type": "code",
   "execution_count": 1,
   "metadata": {},
   "outputs": [
    {
     "ename": "NameError",
     "evalue": "name 'remote' is not defined",
     "output_type": "error",
     "traceback": [
      "\u001b[0;31m---------------------------------------------------------------------------\u001b[0m",
      "\u001b[0;31mNameError\u001b[0m                                 Traceback (most recent call last)",
      "Cell \u001b[0;32mIn[1], line 1\u001b[0m\n\u001b[0;32m----> 1\u001b[0m \u001b[43mremote\u001b[49m\u001b[38;5;241m.\u001b[39mclose()\n",
      "\u001b[0;31mNameError\u001b[0m: name 'remote' is not defined"
     ]
    }
   ],
   "source": [
    "remote.close()"
   ]
  },
  {
   "cell_type": "code",
   "execution_count": null,
   "metadata": {},
   "outputs": [],
   "source": []
  }
 ],
 "metadata": {
  "kernelspec": {
   "display_name": "EDA_venv",
   "language": "python",
   "name": "python3"
  },
  "language_info": {
   "codemirror_mode": {
    "name": "ipython",
    "version": 3
   },
   "file_extension": ".py",
   "mimetype": "text/x-python",
   "name": "python",
   "nbconvert_exporter": "python",
   "pygments_lexer": "ipython3",
   "version": "3.10.12"
  }
 },
 "nbformat": 4,
 "nbformat_minor": 2
}
