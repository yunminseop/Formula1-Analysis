{
 "cells": [
  {
   "cell_type": "code",
   "execution_count": 1,
   "metadata": {},
   "outputs": [],
   "source": [
    "from bs4 import BeautifulSoup\n",
    "from urllib.request import urlopen\n",
    "import requests\n",
    "import mysql.connector\n",
    "import pandas as pd\n",
    "import matplotlib.pyplot as plt\n",
    "import matplotlib\n",
    "import seaborn as sns\n",
    "\n",
    "matplotlib.use(\"TkAgg\")\n",
    "\n",
    "remote = mysql.connector.connect(\n",
    "    host = \"msdb.cvyy46quatrs.ap-northeast-2.rds.amazonaws.com\",\n",
    "    port = \"3306\",\n",
    "    user = \"root\",\n",
    "    password = \"Dbsalstjq128!\",\n",
    "    database = \"F1_Analysis\"\n",
    ")\n",
    "\n",
    "cur = remote.cursor()"
   ]
  },
  {
   "cell_type": "code",
   "execution_count": 4,
   "metadata": {},
   "outputs": [],
   "source": [
    "url = \"https://racingnews365.com/height-weight-f1-drivers\"\n",
    "page = urlopen(url)\n",
    "\n",
    "soup = BeautifulSoup(page, \"html.parser\")"
   ]
  },
  {
   "cell_type": "code",
   "execution_count": 49,
   "metadata": {},
   "outputs": [],
   "source": [
    "import re"
   ]
  },
  {
   "cell_type": "code",
   "execution_count": 116,
   "metadata": {},
   "outputs": [
    {
     "name": "stdout",
     "output_type": "stream",
     "text": [
      "Alex Albon\n",
      "1.86m\n",
      "74kg\n"
     ]
    }
   ],
   "source": [
    "name = 'Alex Albon'\n",
    "h = \"1.86m/ (6' 1'')\"\n",
    "w = \"74kg/163lb\"\n",
    "\n",
    "print((' ').join(re.findall('[A-Z][a-z]+', name)))\n",
    "print(re.findall('\\d.\\d+m',h)[0])\n",
    "print(re.findall('\\d+kg',w)[0])"
   ]
  },
  {
   "cell_type": "code",
   "execution_count": 174,
   "metadata": {},
   "outputs": [
    {
     "name": "stdout",
     "output_type": "stream",
     "text": [
      "2025\n"
     ]
    }
   ],
   "source": [
    "d = \"F1 drivers' height and weight 2025 season\"\n",
    "print(re.findall('\\d+',d)[1])"
   ]
  },
  {
   "cell_type": "markdown",
   "metadata": {},
   "source": [
    "Let's get (driver's name, driver's height, driver's weight) info of each season. (2021~2025)"
   ]
  },
  {
   "cell_type": "code",
   "execution_count": null,
   "metadata": {},
   "outputs": [],
   "source": [
    "content_fields = soup.find_all(class_=\"content-fields\")\n",
    "for each_content in content_fields:\n",
    "    panel_list = each_content.find_all(class_=\"panel\")\n",
    "    for panel in panel_list:\n",
    "        season = panel.find(class_=\"panel__header__title content__heading--section\")\n",
    "        if \"age\" in season.get_text():\n",
    "            continue\n",
    "        else:\n",
    "            this_season = re.findall('\\d+', season.get_text())[0] if len(re.findall('\\d+', season.get_text())[0]) == 4 else re.findall('\\d+', season.get_text())[1]\n",
    "            driver_list = panel.find_all(class_=\"panel__content\")\n",
    "            for driver_info in driver_list:\n",
    "                each_driver = driver_info.find_all(\"td\")                    \n",
    "                for idx, each in enumerate(each_driver):\n",
    "                        if idx %3 == 0:\n",
    "                            each_info = []\n",
    "                            each_info.append(this_season)\n",
    "                            name = (' ').join(re.findall('[A-Z][a-z]+', each.get_text().strip())).strip()\n",
    "                            each_info.append(name)\n",
    "                                \n",
    "                        if idx %3 == 1:   \n",
    "                            height = re.findall('\\d.\\d+m',each.get_text().strip())[0]\n",
    "                            height = int(float(height[:-1])*100)\n",
    "                            each_info.append(height)\n",
    "                            \n",
    "                        if idx %3 == 2:  \n",
    "                            weight = re.findall('\\d+kg',each.get_text().strip())[0]    \n",
    "                            weight = int(weight[:-2])               \n",
    "                            each_info.append(weight)\n",
    "                            sql = \"insert into driver_info (season, name, height, weight) values (%s, %s, %s, %s)\"\n",
    "                            \n",
    "                            cur.execute(sql, (each_info[0], each_info[1], each_info[2], each_info[3]))\n",
    "                            remote.commit()"
   ]
  },
  {
   "cell_type": "code",
   "execution_count": null,
   "metadata": {},
   "outputs": [],
   "source": []
  },
  {
   "cell_type": "code",
   "execution_count": null,
   "metadata": {},
   "outputs": [],
   "source": [
    "remote.close()"
   ]
  }
 ],
 "metadata": {
  "kernelspec": {
   "display_name": "EDA_venv",
   "language": "python",
   "name": "python3"
  },
  "language_info": {
   "codemirror_mode": {
    "name": "ipython",
    "version": 3
   },
   "file_extension": ".py",
   "mimetype": "text/x-python",
   "name": "python",
   "nbconvert_exporter": "python",
   "pygments_lexer": "ipython3",
   "version": "3.10.12"
  }
 },
 "nbformat": 4,
 "nbformat_minor": 2
}
